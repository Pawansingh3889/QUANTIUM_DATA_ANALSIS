{
 "cells": [
  {
   "cell_type": "code",
   "execution_count": 1,
   "id": "e1899b3a",
   "metadata": {},
   "outputs": [],
   "source": [
    "# Importing libraries\n",
    "\n",
    "import pandas as pd\n",
    "import numpy as np\n",
    "\n",
    "import seaborn as sns\n",
    "import matplotlib.pyplot as plt \n",
    "\n",
    "from statistics import stdev\n",
    "from scipy.stats import t\n",
    "\n",
    "import matplotlib.dates as mdates\n",
    "\n",
    "# Remove warnings\n",
    "import warnings\n",
    "warnings.filterwarnings('ignore')"
   ]
  },
  {
   "cell_type": "code",
   "execution_count": 2,
   "id": "821b598b",
   "metadata": {},
   "outputs": [],
   "source": [
    "# Importing data\n",
    "data =pd.read_csv(r\"C:\\Users\\admin\\Desktop\\Quantium project\\QVI_data.csv\")"
   ]
  },
  {
   "cell_type": "code",
   "execution_count": 3,
   "id": "5d45968f",
   "metadata": {},
   "outputs": [
    {
     "data": {
      "text/html": [
       "<div>\n",
       "<style scoped>\n",
       "    .dataframe tbody tr th:only-of-type {\n",
       "        vertical-align: middle;\n",
       "    }\n",
       "\n",
       "    .dataframe tbody tr th {\n",
       "        vertical-align: top;\n",
       "    }\n",
       "\n",
       "    .dataframe thead th {\n",
       "        text-align: right;\n",
       "    }\n",
       "</style>\n",
       "<table border=\"1\" class=\"dataframe\">\n",
       "  <thead>\n",
       "    <tr style=\"text-align: right;\">\n",
       "      <th></th>\n",
       "      <th>LYLTY_CARD_NBR</th>\n",
       "      <th>DATE</th>\n",
       "      <th>STORE_NBR</th>\n",
       "      <th>TXN_ID</th>\n",
       "      <th>PROD_NBR</th>\n",
       "      <th>PROD_NAME</th>\n",
       "      <th>PROD_QTY</th>\n",
       "      <th>TOT_SALES</th>\n",
       "      <th>PACK_SIZE</th>\n",
       "      <th>BRAND</th>\n",
       "      <th>LIFESTAGE</th>\n",
       "      <th>PREMIUM_CUSTOMER</th>\n",
       "    </tr>\n",
       "  </thead>\n",
       "  <tbody>\n",
       "    <tr>\n",
       "      <th>0</th>\n",
       "      <td>1000</td>\n",
       "      <td>2018-10-17</td>\n",
       "      <td>1</td>\n",
       "      <td>1</td>\n",
       "      <td>5</td>\n",
       "      <td>Natural Chip        Compny SeaSalt175g</td>\n",
       "      <td>2</td>\n",
       "      <td>6.0</td>\n",
       "      <td>175</td>\n",
       "      <td>NATURAL</td>\n",
       "      <td>YOUNG SINGLES/COUPLES</td>\n",
       "      <td>Premium</td>\n",
       "    </tr>\n",
       "    <tr>\n",
       "      <th>1</th>\n",
       "      <td>1002</td>\n",
       "      <td>2018-09-16</td>\n",
       "      <td>1</td>\n",
       "      <td>2</td>\n",
       "      <td>58</td>\n",
       "      <td>Red Rock Deli Chikn&amp;Garlic Aioli 150g</td>\n",
       "      <td>1</td>\n",
       "      <td>2.7</td>\n",
       "      <td>150</td>\n",
       "      <td>RRD</td>\n",
       "      <td>YOUNG SINGLES/COUPLES</td>\n",
       "      <td>Mainstream</td>\n",
       "    </tr>\n",
       "    <tr>\n",
       "      <th>2</th>\n",
       "      <td>1003</td>\n",
       "      <td>2019-03-07</td>\n",
       "      <td>1</td>\n",
       "      <td>3</td>\n",
       "      <td>52</td>\n",
       "      <td>Grain Waves Sour    Cream&amp;Chives 210G</td>\n",
       "      <td>1</td>\n",
       "      <td>3.6</td>\n",
       "      <td>210</td>\n",
       "      <td>GRNWVES</td>\n",
       "      <td>YOUNG FAMILIES</td>\n",
       "      <td>Budget</td>\n",
       "    </tr>\n",
       "    <tr>\n",
       "      <th>3</th>\n",
       "      <td>1003</td>\n",
       "      <td>2019-03-08</td>\n",
       "      <td>1</td>\n",
       "      <td>4</td>\n",
       "      <td>106</td>\n",
       "      <td>Natural ChipCo      Hony Soy Chckn175g</td>\n",
       "      <td>1</td>\n",
       "      <td>3.0</td>\n",
       "      <td>175</td>\n",
       "      <td>NATURAL</td>\n",
       "      <td>YOUNG FAMILIES</td>\n",
       "      <td>Budget</td>\n",
       "    </tr>\n",
       "    <tr>\n",
       "      <th>4</th>\n",
       "      <td>1004</td>\n",
       "      <td>2018-11-02</td>\n",
       "      <td>1</td>\n",
       "      <td>5</td>\n",
       "      <td>96</td>\n",
       "      <td>WW Original Stacked Chips 160g</td>\n",
       "      <td>1</td>\n",
       "      <td>1.9</td>\n",
       "      <td>160</td>\n",
       "      <td>WOOLWORTHS</td>\n",
       "      <td>OLDER SINGLES/COUPLES</td>\n",
       "      <td>Mainstream</td>\n",
       "    </tr>\n",
       "  </tbody>\n",
       "</table>\n",
       "</div>"
      ],
      "text/plain": [
       "   LYLTY_CARD_NBR        DATE  STORE_NBR  TXN_ID  PROD_NBR  \\\n",
       "0            1000  2018-10-17          1       1         5   \n",
       "1            1002  2018-09-16          1       2        58   \n",
       "2            1003  2019-03-07          1       3        52   \n",
       "3            1003  2019-03-08          1       4       106   \n",
       "4            1004  2018-11-02          1       5        96   \n",
       "\n",
       "                                PROD_NAME  PROD_QTY  TOT_SALES  PACK_SIZE  \\\n",
       "0  Natural Chip        Compny SeaSalt175g         2        6.0        175   \n",
       "1   Red Rock Deli Chikn&Garlic Aioli 150g         1        2.7        150   \n",
       "2   Grain Waves Sour    Cream&Chives 210G         1        3.6        210   \n",
       "3  Natural ChipCo      Hony Soy Chckn175g         1        3.0        175   \n",
       "4          WW Original Stacked Chips 160g         1        1.9        160   \n",
       "\n",
       "        BRAND              LIFESTAGE PREMIUM_CUSTOMER  \n",
       "0     NATURAL  YOUNG SINGLES/COUPLES          Premium  \n",
       "1         RRD  YOUNG SINGLES/COUPLES       Mainstream  \n",
       "2     GRNWVES         YOUNG FAMILIES           Budget  \n",
       "3     NATURAL         YOUNG FAMILIES           Budget  \n",
       "4  WOOLWORTHS  OLDER SINGLES/COUPLES       Mainstream  "
      ]
     },
     "execution_count": 3,
     "metadata": {},
     "output_type": "execute_result"
    }
   ],
   "source": [
    "data.head()\n"
   ]
  },
  {
   "cell_type": "code",
   "execution_count": 4,
   "id": "d3592ade",
   "metadata": {},
   "outputs": [
    {
     "data": {
      "text/plain": [
       "(264834, 12)"
      ]
     },
     "execution_count": 4,
     "metadata": {},
     "output_type": "execute_result"
    }
   ],
   "source": [
    "data.shape"
   ]
  },
  {
   "cell_type": "code",
   "execution_count": 5,
   "id": "fcd2a5db",
   "metadata": {},
   "outputs": [
    {
     "data": {
      "text/html": [
       "<div>\n",
       "<style scoped>\n",
       "    .dataframe tbody tr th:only-of-type {\n",
       "        vertical-align: middle;\n",
       "    }\n",
       "\n",
       "    .dataframe tbody tr th {\n",
       "        vertical-align: top;\n",
       "    }\n",
       "\n",
       "    .dataframe thead th {\n",
       "        text-align: right;\n",
       "    }\n",
       "</style>\n",
       "<table border=\"1\" class=\"dataframe\">\n",
       "  <thead>\n",
       "    <tr style=\"text-align: right;\">\n",
       "      <th></th>\n",
       "      <th>LYLTY_CARD_NBR</th>\n",
       "      <th>STORE_NBR</th>\n",
       "      <th>TXN_ID</th>\n",
       "      <th>PROD_NBR</th>\n",
       "      <th>PROD_QTY</th>\n",
       "      <th>TOT_SALES</th>\n",
       "      <th>PACK_SIZE</th>\n",
       "    </tr>\n",
       "  </thead>\n",
       "  <tbody>\n",
       "    <tr>\n",
       "      <th>count</th>\n",
       "      <td>2.648340e+05</td>\n",
       "      <td>264834.000000</td>\n",
       "      <td>2.648340e+05</td>\n",
       "      <td>264834.000000</td>\n",
       "      <td>264834.000000</td>\n",
       "      <td>264834.000000</td>\n",
       "      <td>264834.000000</td>\n",
       "    </tr>\n",
       "    <tr>\n",
       "      <th>mean</th>\n",
       "      <td>1.355488e+05</td>\n",
       "      <td>135.079423</td>\n",
       "      <td>1.351576e+05</td>\n",
       "      <td>56.583554</td>\n",
       "      <td>1.905813</td>\n",
       "      <td>7.299346</td>\n",
       "      <td>182.425512</td>\n",
       "    </tr>\n",
       "    <tr>\n",
       "      <th>std</th>\n",
       "      <td>8.057990e+04</td>\n",
       "      <td>76.784063</td>\n",
       "      <td>7.813292e+04</td>\n",
       "      <td>32.826444</td>\n",
       "      <td>0.343436</td>\n",
       "      <td>2.527241</td>\n",
       "      <td>64.325148</td>\n",
       "    </tr>\n",
       "    <tr>\n",
       "      <th>min</th>\n",
       "      <td>1.000000e+03</td>\n",
       "      <td>1.000000</td>\n",
       "      <td>1.000000e+00</td>\n",
       "      <td>1.000000</td>\n",
       "      <td>1.000000</td>\n",
       "      <td>1.500000</td>\n",
       "      <td>70.000000</td>\n",
       "    </tr>\n",
       "    <tr>\n",
       "      <th>25%</th>\n",
       "      <td>7.002100e+04</td>\n",
       "      <td>70.000000</td>\n",
       "      <td>6.760050e+04</td>\n",
       "      <td>28.000000</td>\n",
       "      <td>2.000000</td>\n",
       "      <td>5.400000</td>\n",
       "      <td>150.000000</td>\n",
       "    </tr>\n",
       "    <tr>\n",
       "      <th>50%</th>\n",
       "      <td>1.303570e+05</td>\n",
       "      <td>130.000000</td>\n",
       "      <td>1.351365e+05</td>\n",
       "      <td>56.000000</td>\n",
       "      <td>2.000000</td>\n",
       "      <td>7.400000</td>\n",
       "      <td>170.000000</td>\n",
       "    </tr>\n",
       "    <tr>\n",
       "      <th>75%</th>\n",
       "      <td>2.030940e+05</td>\n",
       "      <td>203.000000</td>\n",
       "      <td>2.026998e+05</td>\n",
       "      <td>85.000000</td>\n",
       "      <td>2.000000</td>\n",
       "      <td>9.200000</td>\n",
       "      <td>175.000000</td>\n",
       "    </tr>\n",
       "    <tr>\n",
       "      <th>max</th>\n",
       "      <td>2.373711e+06</td>\n",
       "      <td>272.000000</td>\n",
       "      <td>2.415841e+06</td>\n",
       "      <td>114.000000</td>\n",
       "      <td>5.000000</td>\n",
       "      <td>29.500000</td>\n",
       "      <td>380.000000</td>\n",
       "    </tr>\n",
       "  </tbody>\n",
       "</table>\n",
       "</div>"
      ],
      "text/plain": [
       "       LYLTY_CARD_NBR      STORE_NBR        TXN_ID       PROD_NBR  \\\n",
       "count    2.648340e+05  264834.000000  2.648340e+05  264834.000000   \n",
       "mean     1.355488e+05     135.079423  1.351576e+05      56.583554   \n",
       "std      8.057990e+04      76.784063  7.813292e+04      32.826444   \n",
       "min      1.000000e+03       1.000000  1.000000e+00       1.000000   \n",
       "25%      7.002100e+04      70.000000  6.760050e+04      28.000000   \n",
       "50%      1.303570e+05     130.000000  1.351365e+05      56.000000   \n",
       "75%      2.030940e+05     203.000000  2.026998e+05      85.000000   \n",
       "max      2.373711e+06     272.000000  2.415841e+06     114.000000   \n",
       "\n",
       "            PROD_QTY      TOT_SALES      PACK_SIZE  \n",
       "count  264834.000000  264834.000000  264834.000000  \n",
       "mean        1.905813       7.299346     182.425512  \n",
       "std         0.343436       2.527241      64.325148  \n",
       "min         1.000000       1.500000      70.000000  \n",
       "25%         2.000000       5.400000     150.000000  \n",
       "50%         2.000000       7.400000     170.000000  \n",
       "75%         2.000000       9.200000     175.000000  \n",
       "max         5.000000      29.500000     380.000000  "
      ]
     },
     "execution_count": 5,
     "metadata": {},
     "output_type": "execute_result"
    }
   ],
   "source": [
    "data.describe()"
   ]
  },
  {
   "cell_type": "code",
   "execution_count": 6,
   "id": "a6b5d126",
   "metadata": {},
   "outputs": [
    {
     "data": {
      "text/plain": [
       "<bound method DataFrame.info of         LYLTY_CARD_NBR        DATE  STORE_NBR  TXN_ID  PROD_NBR  \\\n",
       "0                 1000  2018-10-17          1       1         5   \n",
       "1                 1002  2018-09-16          1       2        58   \n",
       "2                 1003  2019-03-07          1       3        52   \n",
       "3                 1003  2019-03-08          1       4       106   \n",
       "4                 1004  2018-11-02          1       5        96   \n",
       "...                ...         ...        ...     ...       ...   \n",
       "264829         2370701  2018-12-08         88  240378        24   \n",
       "264830         2370751  2018-10-01         88  240394        60   \n",
       "264831         2370961  2018-10-24         88  240480        70   \n",
       "264832         2370961  2018-10-27         88  240481        65   \n",
       "264833         2373711  2018-12-14         88  241815        16   \n",
       "\n",
       "                                       PROD_NAME  PROD_QTY  TOT_SALES  \\\n",
       "0         Natural Chip        Compny SeaSalt175g         2        6.0   \n",
       "1          Red Rock Deli Chikn&Garlic Aioli 150g         1        2.7   \n",
       "2          Grain Waves Sour    Cream&Chives 210G         1        3.6   \n",
       "3         Natural ChipCo      Hony Soy Chckn175g         1        3.0   \n",
       "4                 WW Original Stacked Chips 160g         1        1.9   \n",
       "...                                          ...       ...        ...   \n",
       "264829     Grain Waves         Sweet Chilli 210g         2        7.2   \n",
       "264830      Kettle Tortilla ChpsFeta&Garlic 150g         2        9.2   \n",
       "264831   Tyrrells Crisps     Lightly Salted 165g         2        8.4   \n",
       "264832  Old El Paso Salsa   Dip Chnky Tom Ht300g         2       10.2   \n",
       "264833  Smiths Crinkle Chips Salt & Vinegar 330g         2       11.4   \n",
       "\n",
       "        PACK_SIZE       BRAND              LIFESTAGE PREMIUM_CUSTOMER  \n",
       "0             175     NATURAL  YOUNG SINGLES/COUPLES          Premium  \n",
       "1             150         RRD  YOUNG SINGLES/COUPLES       Mainstream  \n",
       "2             210     GRNWVES         YOUNG FAMILIES           Budget  \n",
       "3             175     NATURAL         YOUNG FAMILIES           Budget  \n",
       "4             160  WOOLWORTHS  OLDER SINGLES/COUPLES       Mainstream  \n",
       "...           ...         ...                    ...              ...  \n",
       "264829        210     GRNWVES         YOUNG FAMILIES       Mainstream  \n",
       "264830        150      KETTLE         YOUNG FAMILIES          Premium  \n",
       "264831        165    TYRRELLS         OLDER FAMILIES           Budget  \n",
       "264832        300         OLD         OLDER FAMILIES           Budget  \n",
       "264833        330      SMITHS  YOUNG SINGLES/COUPLES       Mainstream  \n",
       "\n",
       "[264834 rows x 12 columns]>"
      ]
     },
     "execution_count": 6,
     "metadata": {},
     "output_type": "execute_result"
    }
   ],
   "source": [
    "data.info"
   ]
  },
  {
   "cell_type": "code",
   "execution_count": 7,
   "id": "0691e5ec",
   "metadata": {},
   "outputs": [
    {
     "name": "stdout",
     "output_type": "stream",
     "text": [
      "<class 'pandas.core.frame.DataFrame'>\n",
      "RangeIndex: 264834 entries, 0 to 264833\n",
      "Data columns (total 12 columns):\n",
      " #   Column            Non-Null Count   Dtype  \n",
      "---  ------            --------------   -----  \n",
      " 0   LYLTY_CARD_NBR    264834 non-null  int64  \n",
      " 1   DATE              264834 non-null  object \n",
      " 2   STORE_NBR         264834 non-null  int64  \n",
      " 3   TXN_ID            264834 non-null  int64  \n",
      " 4   PROD_NBR          264834 non-null  int64  \n",
      " 5   PROD_NAME         264834 non-null  object \n",
      " 6   PROD_QTY          264834 non-null  int64  \n",
      " 7   TOT_SALES         264834 non-null  float64\n",
      " 8   PACK_SIZE         264834 non-null  int64  \n",
      " 9   BRAND             264834 non-null  object \n",
      " 10  LIFESTAGE         264834 non-null  object \n",
      " 11  PREMIUM_CUSTOMER  264834 non-null  object \n",
      "dtypes: float64(1), int64(6), object(5)\n",
      "memory usage: 24.2+ MB\n"
     ]
    }
   ],
   "source": [
    "data.info()"
   ]
  },
  {
   "cell_type": "code",
   "execution_count": 8,
   "id": "1c10163d",
   "metadata": {},
   "outputs": [],
   "source": [
    "# Changing the DATE from object type to datetime type\n",
    "\n",
    "data['DATE'] = pd.to_datetime(data['DATE'])"
   ]
  },
  {
   "cell_type": "code",
   "execution_count": 9,
   "id": "8b2a00c2",
   "metadata": {},
   "outputs": [
    {
     "name": "stdout",
     "output_type": "stream",
     "text": [
      "<class 'pandas.core.frame.DataFrame'>\n",
      "RangeIndex: 264834 entries, 0 to 264833\n",
      "Data columns (total 12 columns):\n",
      " #   Column            Non-Null Count   Dtype         \n",
      "---  ------            --------------   -----         \n",
      " 0   LYLTY_CARD_NBR    264834 non-null  int64         \n",
      " 1   DATE              264834 non-null  datetime64[ns]\n",
      " 2   STORE_NBR         264834 non-null  int64         \n",
      " 3   TXN_ID            264834 non-null  int64         \n",
      " 4   PROD_NBR          264834 non-null  int64         \n",
      " 5   PROD_NAME         264834 non-null  object        \n",
      " 6   PROD_QTY          264834 non-null  int64         \n",
      " 7   TOT_SALES         264834 non-null  float64       \n",
      " 8   PACK_SIZE         264834 non-null  int64         \n",
      " 9   BRAND             264834 non-null  object        \n",
      " 10  LIFESTAGE         264834 non-null  object        \n",
      " 11  PREMIUM_CUSTOMER  264834 non-null  object        \n",
      "dtypes: datetime64[ns](1), float64(1), int64(6), object(4)\n",
      "memory usage: 24.2+ MB\n"
     ]
    }
   ],
   "source": [
    "data.info()"
   ]
  },
  {
   "cell_type": "code",
   "execution_count": 10,
   "id": "db24fdf1",
   "metadata": {},
   "outputs": [
    {
     "data": {
      "text/plain": [
       "LYLTY_CARD_NBR      0\n",
       "DATE                0\n",
       "STORE_NBR           0\n",
       "TXN_ID              0\n",
       "PROD_NBR            0\n",
       "PROD_NAME           0\n",
       "PROD_QTY            0\n",
       "TOT_SALES           0\n",
       "PACK_SIZE           0\n",
       "BRAND               0\n",
       "LIFESTAGE           0\n",
       "PREMIUM_CUSTOMER    0\n",
       "dtype: int64"
      ]
     },
     "execution_count": 10,
     "metadata": {},
     "output_type": "execute_result"
    }
   ],
   "source": [
    "data.isnull().sum()"
   ]
  },
  {
   "cell_type": "code",
   "execution_count": 11,
   "id": "14b6a589",
   "metadata": {},
   "outputs": [
    {
     "data": {
      "text/plain": [
       "array([[1000, Timestamp('2018-10-17 00:00:00'), 1, ..., 'NATURAL',\n",
       "        'YOUNG SINGLES/COUPLES', 'Premium'],\n",
       "       [1002, Timestamp('2018-09-16 00:00:00'), 1, ..., 'RRD',\n",
       "        'YOUNG SINGLES/COUPLES', 'Mainstream'],\n",
       "       [1003, Timestamp('2019-03-07 00:00:00'), 1, ..., 'GRNWVES',\n",
       "        'YOUNG FAMILIES', 'Budget'],\n",
       "       ...,\n",
       "       [2370961, Timestamp('2018-10-24 00:00:00'), 88, ..., 'TYRRELLS',\n",
       "        'OLDER FAMILIES', 'Budget'],\n",
       "       [2370961, Timestamp('2018-10-27 00:00:00'), 88, ..., 'OLD',\n",
       "        'OLDER FAMILIES', 'Budget'],\n",
       "       [2373711, Timestamp('2018-12-14 00:00:00'), 88, ..., 'SMITHS',\n",
       "        'YOUNG SINGLES/COUPLES', 'Mainstream']], dtype=object)"
      ]
     },
     "execution_count": 11,
     "metadata": {},
     "output_type": "execute_result"
    }
   ],
   "source": [
    "data.values"
   ]
  },
  {
   "cell_type": "code",
   "execution_count": 12,
   "id": "2a52511f",
   "metadata": {},
   "outputs": [],
   "source": [
    "# We are going to find the total sale first."
   ]
  },
  {
   "cell_type": "code",
   "execution_count": 13,
   "id": "3c8e61e7",
   "metadata": {},
   "outputs": [],
   "source": [
    "total_sales = sum(data['TOT_SALES'])"
   ]
  },
  {
   "cell_type": "code",
   "execution_count": 14,
   "id": "b169e34a",
   "metadata": {},
   "outputs": [
    {
     "data": {
      "text/plain": [
       "1933114.9999996515"
      ]
     },
     "execution_count": 14,
     "metadata": {},
     "output_type": "execute_result"
    }
   ],
   "source": [
    "total_sales"
   ]
  },
  {
   "cell_type": "code",
   "execution_count": 15,
   "id": "98d1c474",
   "metadata": {},
   "outputs": [],
   "source": [
    "# Second we are going to find number of customers.\n",
    "\n",
    "# since txn_id is unique for every customer so we will count the number of tax_id's .\n",
    "\n",
    "# total txn IDs = number of customers"
   ]
  },
  {
   "cell_type": "code",
   "execution_count": 16,
   "id": "132fd355",
   "metadata": {},
   "outputs": [
    {
     "data": {
      "text/plain": [
       "222775    3\n",
       "108462    3\n",
       "1162      3\n",
       "230356    3\n",
       "102237    3\n",
       "         ..\n",
       "177411    1\n",
       "167172    1\n",
       "171270    1\n",
       "169223    1\n",
       "2047      1\n",
       "Name: TXN_ID, Length: 263125, dtype: int64"
      ]
     },
     "execution_count": 16,
     "metadata": {},
     "output_type": "execute_result"
    }
   ],
   "source": [
    "data['TXN_ID'].value_counts()"
   ]
  },
  {
   "cell_type": "code",
   "execution_count": 17,
   "id": "8a690eee",
   "metadata": {},
   "outputs": [
    {
     "data": {
      "text/plain": [
       "263125"
      ]
     },
     "execution_count": 17,
     "metadata": {},
     "output_type": "execute_result"
    }
   ],
   "source": [
    "data['TXN_ID'].nunique()"
   ]
  },
  {
   "cell_type": "code",
   "execution_count": 18,
   "id": "47787d8b",
   "metadata": {},
   "outputs": [],
   "source": [
    "# Total customers = 263125\n",
    "total_customers = 263125"
   ]
  },
  {
   "cell_type": "code",
   "execution_count": 19,
   "id": "e1d46436",
   "metadata": {},
   "outputs": [],
   "source": [
    "# last we have to find the average number of transaction per customer."
   ]
  },
  {
   "cell_type": "code",
   "execution_count": 20,
   "id": "29107dd8",
   "metadata": {},
   "outputs": [
    {
     "data": {
      "text/plain": [
       "(264834,)"
      ]
     },
     "execution_count": 20,
     "metadata": {},
     "output_type": "execute_result"
    }
   ],
   "source": [
    "total_tran = data['TXN_ID'].shape\n",
    "total_tran"
   ]
  },
  {
   "cell_type": "code",
   "execution_count": 21,
   "id": "40173691",
   "metadata": {},
   "outputs": [],
   "source": [
    "# average transaction = Total number of transaction divided by number of customer."
   ]
  },
  {
   "cell_type": "code",
   "execution_count": 22,
   "id": "81fca80c",
   "metadata": {},
   "outputs": [
    {
     "data": {
      "text/plain": [
       "1.0064950118764846"
      ]
     },
     "execution_count": 22,
     "metadata": {},
     "output_type": "execute_result"
    }
   ],
   "source": [
    "# avg_tran = total_tran/total_tran\n",
    "\n",
    "avg_tran = 264834/263125\n",
    "avg_tran"
   ]
  },
  {
   "cell_type": "code",
   "execution_count": 23,
   "id": "961b8671",
   "metadata": {},
   "outputs": [],
   "source": [
    "# average transaction = 1.0064950118764846"
   ]
  },
  {
   "cell_type": "code",
   "execution_count": null,
   "id": "dd812055",
   "metadata": {},
   "outputs": [],
   "source": []
  }
 ],
 "metadata": {
  "kernelspec": {
   "display_name": "Python 3",
   "language": "python",
   "name": "python3"
  },
  "language_info": {
   "codemirror_mode": {
    "name": "ipython",
    "version": 3
   },
   "file_extension": ".py",
   "mimetype": "text/x-python",
   "name": "python",
   "nbconvert_exporter": "python",
   "pygments_lexer": "ipython3",
   "version": "3.8.8"
  }
 },
 "nbformat": 4,
 "nbformat_minor": 5
}
